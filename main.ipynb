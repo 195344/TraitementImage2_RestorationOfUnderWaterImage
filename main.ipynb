{
 "cells": [
  {
   "cell_type": "markdown",
   "metadata": {},
   "source": [
    "<center> <h1> Restoration of underwater images </h1> <br> <h3> <br> 4MEO Computer vision 2</h3> </center>"
   ]
  },
  {
   "cell_type": "markdown",
   "metadata": {},
   "source": [
    "# I. Introduction"
   ]
  },
  {
   "cell_type": "markdown",
   "metadata": {},
   "source": [
    "### 1. Import libraries"
   ]
  },
  {
   "cell_type": "code",
   "execution_count": 764,
   "metadata": {},
   "outputs": [],
   "source": [
    "import numpy as np\n",
    "import scipy as sc\n",
    "import cv2 as cv\n",
    "import math\n",
    "import matplotlib.image as mpimg\n",
    "import matplotlib.pylab as plt"
   ]
  },
  {
   "cell_type": "markdown",
   "metadata": {},
   "source": [
    "# II. Compute inputs"
   ]
  },
  {
   "cell_type": "markdown",
   "metadata": {},
   "source": [
    "## 1. Show function"
   ]
  },
  {
   "cell_type": "code",
   "execution_count": 765,
   "metadata": {},
   "outputs": [],
   "source": [
    "def show(final):\n",
    "    cv.imshow('White balanced', final)\n",
    "    cv.waitKey(0)\n",
    "    cv.destroyAllWindows()\n",
    "    for i in range (1,5):\n",
    "        cv.waitKey(1)"
   ]
  },
  {
   "cell_type": "markdown",
   "metadata": {},
   "source": [
    "## 2. White balance function definition "
   ]
  },
  {
   "cell_type": "code",
   "execution_count": 766,
   "metadata": {},
   "outputs": [],
   "source": [
    "def white_balance(img):\n",
    "    result = cv.cvtColor(img, cv.COLOR_BGR2LAB)\n",
    "    avg_a = np.average(result[:, :, 1])\n",
    "    avg_b = np.average(result[:, :, 2])\n",
    "    result[:, :, 1] = result[:, :, 1] - ((avg_a - 128) * (result[:, :, 0] / 255.0) * 1.1)\n",
    "    result[:, :, 2] = result[:, :, 2] - ((avg_b - 128) * (result[:, :, 0] / 255.0) * 1.1)\n",
    "    result = cv.cvtColor(result, cv.COLOR_LAB2BGR)\n",
    "    return result"
   ]
  },
  {
   "cell_type": "markdown",
   "metadata": {},
   "source": [
    "## 3. Enhance contrast function definition "
   ]
  },
  {
   "cell_type": "code",
   "execution_count": 767,
   "metadata": {},
   "outputs": [],
   "source": [
    "def enhance_contrast(im):\n",
    "    rgb_img = im\n",
    "\n",
    "    # convert from RGB color-space to YCrCb\n",
    "    ycrcb_img = cv.cvtColor(rgb_img, cv.COLOR_BGR2YCrCb)\n",
    "\n",
    "    # equalize the histogram of the Y channel\n",
    "    ycrcb_img[:, :, 0] = cv.equalizeHist(ycrcb_img[:, :, 0])\n",
    "\n",
    "    # convert back to RGB color-space from YCrCb\n",
    "    equalized_img = cv.cvtColor(ycrcb_img, cv.COLOR_YCrCb2BGR)\n",
    "    return equalized_img"
   ]
  },
  {
   "cell_type": "markdown",
   "metadata": {},
   "source": [
    "## 4. Luminance weight map"
   ]
  },
  {
   "cell_type": "code",
   "execution_count": 768,
   "metadata": {},
   "outputs": [],
   "source": [
    "def luminance_weight_map(img):\n",
    "    im = cv.cvtColor(img, cv.COLOR_BGR2RGB)\n",
    "    L = np.mean(im,axis=2) #mean for each axes\n",
    "    lumWeightMap = np.sqrt((1/3)*np.square((im[:,:,0]-L))+np.square((im[:,:,1]-L))+np.square((im[:,:,2]-L)))\n",
    "    return lumWeightMap"
   ]
  },
  {
   "cell_type": "markdown",
   "metadata": {},
   "source": [
    "## 5. Chromatic weight map"
   ]
  },
  {
   "cell_type": "code",
   "execution_count": 769,
   "metadata": {},
   "outputs": [],
   "source": [
    "def chromatic_weight_map(img):\n",
    "    hsv = cv.cvtColor(img, cv.COLOR_BGR2HSV)\n",
    "    saturationValue = hsv[:,:,1]; \n",
    "    saturationMax = 1\n",
    "    sigma = 0.3\n",
    "    chromaticWeightmap = np.exp( -1 * ((np.square(saturationValue - saturationMax)) / (2*np.square(sigma))) )\n",
    "    return chromaticWeightmap"
   ]
  },
  {
   "cell_type": "markdown",
   "metadata": {},
   "source": [
    "## 6. Saliency weight map"
   ]
  },
  {
   "cell_type": "code",
   "execution_count": 770,
   "metadata": {},
   "outputs": [],
   "source": [
    "def saliency_weight_map(img):\n",
    "    saliency = cv.saliency.StaticSaliencySpectralResidual_create()\n",
    "    (success, saliencyMap) = saliency.computeSaliency(img)\n",
    "    saliencyMap = (saliencyMap * 255).astype(\"uint8\")\n",
    "    return saliencyMap"
   ]
  },
  {
   "cell_type": "markdown",
   "metadata": {},
   "source": [
    "## 7. Generate Gaussian"
   ]
  },
  {
   "cell_type": "code",
   "execution_count": 771,
   "metadata": {},
   "outputs": [],
   "source": [
    "def generate_gaussian(map):\n",
    "    G = map.copy()\n",
    "    gaussianPyramid = [G]\n",
    "    for i in range(5):\n",
    "        rows, cols = G.shape\n",
    "        G = cv.pyrDown(G, dstsize=(cols//2, rows//2))\n",
    "        gaussianPyramid.append(G)\n",
    "    return gaussianPyramid"
   ]
  },
  {
   "cell_type": "markdown",
   "metadata": {},
   "source": [
    "## 8. Generate Laplacian"
   ]
  },
  {
   "cell_type": "code",
   "execution_count": 772,
   "metadata": {},
   "outputs": [],
   "source": [
    "def generate_laplacian(gaussianPyramid):\n",
    "    laplacianPyramid = [gaussianPyramid[-1]]\n",
    "    for i in range(5,0,-1):\n",
    "        rows, cols = gaussianPyramid[i-1].shape\n",
    "        GE = cv.pyrUp(gaussianPyramid[i], dstsize=(cols, rows))\n",
    "        L = cv.subtract(gaussianPyramid[i-1],GE)\n",
    "        laplacianPyramid.append(L)\n",
    "    return laplacianPyramid"
   ]
  },
  {
   "cell_type": "markdown",
   "metadata": {},
   "source": [
    "## Output"
   ]
  },
  {
   "cell_type": "code",
   "execution_count": 773,
   "metadata": {},
   "outputs": [
    {
     "name": "stderr",
     "output_type": "stream",
     "text": [
      "/usr/local/lib/python3.7/site-packages/ipykernel_launcher.py:16: RuntimeWarning: invalid value encountered in true_divide\n",
      "  app.launch_new_instance()\n",
      "/usr/local/lib/python3.7/site-packages/ipykernel_launcher.py:17: RuntimeWarning: invalid value encountered in true_divide\n"
     ]
    },
    {
     "name": "stdout",
     "output_type": "stream",
     "text": [
      "[[0.9375     0.96875    0.875      ... 0.2109375  0.28125    0.1875    ]\n",
      " [0.625      0.73046875 0.8984375  ... 0.09765625 0.109375   0.07421875]\n",
      " [0.53627409 0.57366603 0.6861058  ... 0.2109375  0.09765625 0.08203125]\n",
      " ...\n",
      " [0.4921875  0.4140625  0.16796875 ... 0.59762739 0.34504727 0.57421875]\n",
      " [0.3515625  0.33984375 0.32421875 ... 0.6969931  0.48046875 0.49609375]\n",
      " [0.0625     0.14453125 0.36328125 ... 0.6423056  0.64453125 0.5625    ]]\n"
     ]
    }
   ],
   "source": [
    "img = cv.imread('data/test4.png')\n",
    "\n",
    "firstInput = white_balance(img)\n",
    "secondInput = enhance_contrast(firstInput)\n",
    "\n",
    "luminanceWeightmap1 = luminance_weight_map(firstInput)\n",
    "chromaticWeightmap1 = chromatic_weight_map(firstInput)\n",
    "saliencyWeightmap1 = saliency_weight_map(firstInput)\n",
    "resultedWeightmap1 = np.multiply(np.multiply(luminanceWeightmap1,chromaticWeightmap1),saliencyWeightmap1)\n",
    "\n",
    "luminanceWeightmap2 = luminance_weight_map(secondInput)\n",
    "chromaticWeightmap2 = chromatic_weight_map(secondInput)\n",
    "saliencyWeightmap2 = saliency_weight_map(secondInput)\n",
    "resultedWeightmap2 = np.multiply(np.multiply(luminanceWeightmap2,chromaticWeightmap2),saliencyWeightmap2)\n",
    "\n",
    "normaizedWeightmap1 = np.nan_to_num(np.true_divide(resultedWeightmap1,(resultedWeightmap1 + resultedWeightmap2)))\n",
    "normaizedWeightmap2 = np.nan_to_num(np.true_divide(resultedWeightmap2,(resultedWeightmap1 + resultedWeightmap2)))\n",
    "\n",
    "gaussianPyramid1 = generate_gaussian(normaizedWeightmap1)\n",
    "gaussianPyramid2 = generate_gaussian(normaizedWeightmap2)\n",
    "\n",
    "laplacianPyramid1 = generate_laplacian(gaussianPyramid1)\n",
    "laplacianPyramid2 = generate_laplacian(gaussianPyramid2)\n",
    "\n",
    "LS = []\n",
    "for la,lb in zip(laplacianPyramid1,laplacianPyramid2):\n",
    "    rows,cols = la.shape\n",
    "    ls = np.hstack((la[:,0:cols//2], lb[:,cols//2:]))\n",
    "    LS.append(ls)\n",
    "# now reconstruct\n",
    "ls_ = LS[0]\n",
    "for i in range(1,5):\n",
    "    rows, cols = LS[i].shape\n",
    "    ls_ = cv.pyrUp(ls_, dstsize=(cols, rows))\n",
    "    ls_ = cv.add(ls_, LS[i])\n",
    "\n",
    "print(ls_)\n",
    "final = np.hstack((img, firstInput, secondInput))\n",
    "\n",
    "cv.imwrite('Pyramid_blending2.jpg',ls_)\n",
    "show(final)"
   ]
  }
 ],
 "metadata": {
  "interpreter": {
   "hash": "aee8b7b246df8f9039afb4144a1f6fd8d2ca17a180786b69acc140d282b71a49"
  },
  "kernelspec": {
   "display_name": "Python 3",
   "language": "python",
   "name": "python3"
  },
  "language_info": {
   "codemirror_mode": {
    "name": "ipython",
    "version": 3
   },
   "file_extension": ".py",
   "mimetype": "text/x-python",
   "name": "python",
   "nbconvert_exporter": "python",
   "pygments_lexer": "ipython3",
   "version": "3.7.7"
  }
 },
 "nbformat": 4,
 "nbformat_minor": 2
}
