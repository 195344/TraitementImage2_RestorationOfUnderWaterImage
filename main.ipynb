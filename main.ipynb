{
 "cells": [
  {
   "cell_type": "markdown",
   "metadata": {},
   "source": [
    "<center> <h1> Restoration of underwater images </h1> <br> <h3> <br> 4MEO Computer vision 2</h3> </center>"
   ]
  },
  {
   "cell_type": "markdown",
   "metadata": {},
   "source": [
    "# I. Introduction"
   ]
  },
  {
   "cell_type": "markdown",
   "metadata": {},
   "source": [
    "### 1. Import libraries"
   ]
  },
  {
   "cell_type": "code",
   "execution_count": 84,
   "metadata": {},
   "outputs": [],
   "source": [
    "import numpy as np\n",
    "import scipy as sc\n",
    "import cv2 as cv\n",
    "import math\n",
    "import matplotlib.image as mpimg\n",
    "import matplotlib.pylab as plt"
   ]
  },
  {
   "cell_type": "markdown",
   "metadata": {},
   "source": [
    "# II. Compute inputs"
   ]
  },
  {
   "cell_type": "markdown",
   "metadata": {},
   "source": [
    "## 1. Show function"
   ]
  },
  {
   "cell_type": "code",
   "execution_count": 85,
   "metadata": {},
   "outputs": [],
   "source": [
    "def show(final):\n",
    "    cv.imshow('White balanced', final)\n",
    "    cv.waitKey(0)\n",
    "    cv.destroyAllWindows()\n",
    "    for i in range (1,5):\n",
    "        cv.waitKey(1)"
   ]
  },
  {
   "cell_type": "markdown",
   "metadata": {},
   "source": [
    "## 2. White balance function definition "
   ]
  },
  {
   "cell_type": "code",
   "execution_count": 86,
   "metadata": {},
   "outputs": [],
   "source": [
    "def white_balance(img):\n",
    "    result = cv.cvtColor(img, cv.COLOR_BGR2LAB)\n",
    "    avg_a = np.average(result[:, :, 1])\n",
    "    avg_b = np.average(result[:, :, 2])\n",
    "    result[:, :, 1] = result[:, :, 1] - ((avg_a - 128) * (result[:, :, 0] / 255.0) * 1.1)\n",
    "    result[:, :, 2] = result[:, :, 2] - ((avg_b - 128) * (result[:, :, 0] / 255.0) * 1.1)\n",
    "    result = cv.cvtColor(result, cv.COLOR_LAB2BGR)\n",
    "    return result"
   ]
  },
  {
   "cell_type": "markdown",
   "metadata": {},
   "source": [
    "## 3. Enhance contrast function definition "
   ]
  },
  {
   "cell_type": "code",
   "execution_count": 87,
   "metadata": {},
   "outputs": [],
   "source": [
    "def enhance_contrast(im):\n",
    "    rgb_img = im\n",
    "\n",
    "    # convert from RGB color-space to YCrCb\n",
    "    ycrcb_img = cv.cvtColor(rgb_img, cv.COLOR_BGR2YCrCb)\n",
    "\n",
    "    # equalize the histogram of the Y channel\n",
    "    ycrcb_img[:, :, 0] = cv.equalizeHist(ycrcb_img[:, :, 0])\n",
    "\n",
    "    # convert back to RGB color-space from YCrCb\n",
    "    equalized_img = cv.cvtColor(ycrcb_img, cv.COLOR_YCrCb2BGR)\n",
    "    return equalized_img"
   ]
  },
  {
   "cell_type": "markdown",
   "metadata": {},
   "source": [
    "## 4. Luminance weight map"
   ]
  },
  {
   "cell_type": "code",
   "execution_count": 88,
   "metadata": {},
   "outputs": [],
   "source": [
    "def luminance_weight_map(img):\n",
    "    im = cv.cvtColor(img, cv.COLOR_BGR2LAB)\n",
    "    L = np.mean(im,axis=2) #mean for each axes\n",
    "    lumWeightMap = np.sqrt((1/3)*np.square((im[:,:,0]-L))+np.square((im[:,:,1]-L))+np.square((im[:,:,2]-L)))\n",
    "    return lumWeightMap"
   ]
  },
  {
   "cell_type": "markdown",
   "metadata": {},
   "source": [
    "## 5. Chromatic weight map"
   ]
  },
  {
   "cell_type": "code",
   "execution_count": 89,
   "metadata": {},
   "outputs": [],
   "source": [
    "def chromatic_weight_map(img):\n",
    "    hsv = cv.cvtColor(img, cv.COLOR_BGR2HSV)\n",
    "    saturationValue = hsv[:,:,1]; \n",
    "    saturationMax = 1\n",
    "    sigma = 0.3\n",
    "    chromaticWeightmap = np.exp( -1 * ((np.square(saturationValue - saturationMax)) / (2*np.square(sigma))) )\n",
    "    return chromaticWeightmap"
   ]
  },
  {
   "cell_type": "markdown",
   "metadata": {},
   "source": [
    "## 6. Saliency weight map"
   ]
  },
  {
   "cell_type": "code",
   "execution_count": 91,
   "metadata": {},
   "outputs": [],
   "source": [
    "def saliency_weight_map(img):\n",
    "    saliency = cv.saliency.StaticSaliencySpectralResidual_create()\n",
    "    (success, saliencyMap) = saliency.computeSaliency(img)\n",
    "    saliencyMap = (saliencyMap * 255).astype(\"uint8\")\n",
    "    return saliencyMap"
   ]
  },
  {
   "cell_type": "markdown",
   "metadata": {},
   "source": [
    "## Output"
   ]
  },
  {
   "cell_type": "code",
   "execution_count": 99,
   "metadata": {},
   "outputs": [
    {
     "name": "stdout",
     "output_type": "stream",
     "text": [
      "[[1.00000000e+000 1.00000000e+000 1.00000000e+000 ... 1.00000000e+000\n",
      "              nan 0.00000000e+000]\n",
      " [1.00000000e+000 1.00000000e+000 1.00000000e+000 ... 1.00000000e+000\n",
      "              nan 0.00000000e+000]\n",
      " [1.00000000e+000             nan 1.00000000e+000 ...             nan\n",
      "              nan 0.00000000e+000]\n",
      " ...\n",
      " [0.00000000e+000 0.00000000e+000             nan ... 1.00000000e+000\n",
      "  2.12214114e-278 1.00000000e+000]\n",
      " [0.00000000e+000 0.00000000e+000 4.56593098e-127 ... 5.24738480e-165\n",
      "  0.00000000e+000 0.00000000e+000]\n",
      " [1.00000000e+000             nan 1.00000000e+000 ...             nan\n",
      "              nan             nan]]\n"
     ]
    },
    {
     "name": "stderr",
     "output_type": "stream",
     "text": [
      "/usr/local/lib/python3.7/site-packages/ipykernel_launcher.py:18: RuntimeWarning: invalid value encountered in true_divide\n",
      "/usr/local/lib/python3.7/site-packages/ipykernel_launcher.py:19: RuntimeWarning: invalid value encountered in true_divide\n"
     ]
    }
   ],
   "source": [
    "img = cv.imread('data/test4.png')\n",
    "\n",
    "firstInput = white_balance(img)\n",
    "secondInput = enhance_contrast(firstInput)\n",
    "#final = np.hstack((img, firstInput, secondInput))\n",
    "#how(final)\n",
    "\n",
    "luminanceWeightmap1 = luminance_weight_map(firstInput)\n",
    "chromaticWeightmap1 = chromatic_weight_map(firstInput)\n",
    "saliencyWeightmap1 = saliency_weight_map(firstInput)\n",
    "resultedWeightmap1 = np.multiply(np.multiply(luminanceWeightmap1,chromaticWeightmap1),saliencyWeightmap1)\n",
    "\n",
    "luminanceWeightmap2 = luminance_weight_map(secondInput)\n",
    "chromaticWeightmap2 = chromatic_weight_map(secondInput)\n",
    "saliencyWeightmap2 = saliency_weight_map(secondInput)\n",
    "resultedWeightmap2 = np.multiply(np.multiply(luminanceWeightmap2,chromaticWeightmap2),saliencyWeightmap2)\n",
    "\n",
    "normaizedWeightmap1 = np.divide(resultedWeightmap1,(resultedWeightmap1 + resultedWeightmap2))\n",
    "normaizedWeightmap2 = np.divide(resultedWeightmap2,(resultedWeightmap1 + resultedWeightmap2))\n",
    "\n",
    "print(normaizedWeightmap1)"
   ]
  }
 ],
 "metadata": {
  "interpreter": {
   "hash": "aee8b7b246df8f9039afb4144a1f6fd8d2ca17a180786b69acc140d282b71a49"
  },
  "kernelspec": {
   "display_name": "Python 3",
   "language": "python",
   "name": "python3"
  },
  "language_info": {
   "codemirror_mode": {
    "name": "ipython",
    "version": 3
   },
   "file_extension": ".py",
   "mimetype": "text/x-python",
   "name": "python",
   "nbconvert_exporter": "python",
   "pygments_lexer": "ipython3",
   "version": "3.7.7"
  }
 },
 "nbformat": 4,
 "nbformat_minor": 2
}
